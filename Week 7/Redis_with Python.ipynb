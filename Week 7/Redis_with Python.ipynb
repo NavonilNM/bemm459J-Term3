{
 "cells": [
  {
   "cell_type": "markdown",
   "metadata": {},
   "source": [
    "# BEMM459J - Week 7: REDIS with Python\n",
    "\n",
    "### Acknowledgement: Tutorial uses several sources including realypython.com, pythontic.com and redis.io\n",
    "\n",
    "### <font color=\"green\"> Begin by first starting Redis server from S:\\\\\"</font>\n",
    "### <font color=\"green\"> Also refer to the Github resource <a href=\"https://github.com/NavonilNM/BEMM459_RDBMS_NoSQL/blob/main/Week%207/Week%207_REDIS%20(BEMM459%20Cohort%20Tearching).pdf\"> Redis commands (Week 7 small cohort teaching) </a> </font>"
   ]
  },
  {
   "cell_type": "markdown",
   "metadata": {},
   "source": [
    "# 1. Connectivity"
   ]
  },
  {
   "cell_type": "code",
   "execution_count": null,
   "metadata": {},
   "outputs": [],
   "source": [
    "# Import Redis package\n",
    "import redis\n",
    "\n",
    "# Main class Redis() which you use to execute Redis commands (the port and db=0 are default values)\n",
    "# Localhost = 127.0.0.1\n",
    "r = redis.Redis(host='localhost', port=6379, db=10)\n",
    "\n",
    "# Check database connection -will return true if successful\n",
    "print(r.ping())"
   ]
  },
  {
   "cell_type": "markdown",
   "metadata": {},
   "source": [
    "# 2. Set and GET"
   ]
  },
  {
   "cell_type": "code",
   "execution_count": null,
   "metadata": {},
   "outputs": [],
   "source": [
    "# Set and Get key-value\n",
    "# Note key is being as primary key - using delimiter :\n",
    "r.set (\"UEBS:BusAn:Sept19:PGTM\", \"MSc in Business Analytics 2019-20 (Cohort trial)\")\n",
    "r.set (\"UEBS:BusAn:Sept20:PGTM\", \"MSc in Business Analytics 2020-21 (Cohort 1)\")\n",
    "r.set (\"UEBS:BusAn:Sept21:PGTM\", \"MSc in Business Analytics 2021-22 (Cohort 2)\")\n",
    "\n",
    "r.set (\"UEBS:BusAn:Sept20:UGTM\", \"BSc in Business Analytics 2020-21 (Cohort 1)\")\n",
    "r.set (\"UEBS:BusAn:Sept21:UGTM\", \"BSc in Business Analytics 2021-22 (Cohort 2)\")\n",
    "\n",
    "r.set (\"UEBS:OperRes:Sept20:PGTM\", \"MSc in Operations Research 2020-21 (Cohort 15)\")\n",
    "r.set (\"UEBS:OperRes:Sept21:PGTM\", \"MSc in Operations Research 2020-21 (Cohort 16)\")\n",
    "\n",
    "# The returned value is Python's bytes type  - Display one key\n",
    "# val=r.get (\"UOE:EMS:Ridiology:Sept20:PGTM\")\n",
    "# print (type(val))\n",
    "# print (val)\n",
    "\n",
    "# Use .decode() method with utf-8 to return String object - Display one key\n",
    "val1=r.get (\"UEBS:BusAn:Sept20:PGTM\").decode(\"utf-8\")\n",
    "print (type(val1))\n",
    "print (val1)\n"
   ]
  },
  {
   "cell_type": "markdown",
   "metadata": {},
   "source": [
    "# 2.1 Display keys matching a pattern"
   ]
  },
  {
   "cell_type": "code",
   "execution_count": null,
   "metadata": {},
   "outputs": [],
   "source": [
    "# Redis KEYS command is used to search keys with a matching pattern.\n",
    "# Note: To get a list of all the keys available in Redis, use only * (KEYS *)\n",
    "allkeys=r.keys(\"UEBS:*\")\n",
    "\n",
    "for x in allkeys:\n",
    "    print(\"Key: \", x.decode(\"utf-8\"))\n",
    "    key=x.decode(\"utf-8\")\n",
    "    print(\"Value: \", r.get(key).decode(\"utf-8\"))    "
   ]
  },
  {
   "cell_type": "markdown",
   "metadata": {},
   "source": [
    "# 2.2 Delete keys"
   ]
  },
  {
   "cell_type": "code",
   "execution_count": null,
   "metadata": {},
   "outputs": [],
   "source": [
    "# Deleting all keys that start with \"UOE\"\n",
    "# To get a list of all the keys available in Redis, use only * (KEYS *)\n",
    "allkeys=r.keys(\"*\")\n",
    "\n",
    "for x in allkeys:\n",
    "    print(\"Deleting Key: \", x.decode(\"utf-8\"))\n",
    "    r.delete(x.decode(\"utf-8\"))"
   ]
  },
  {
   "cell_type": "markdown",
   "metadata": {},
   "source": [
    "# 2.3 Working with Redis hash\n",
    "## A Redis hash is a collection of key-value pairs."
   ]
  },
  {
   "cell_type": "code",
   "execution_count": null,
   "metadata": {},
   "outputs": [],
   "source": [
    "# The HSET command adds a key-value pair to a hash. If the hash does not exist one will be created. If a key already exists, the value for the key is set to the specified value.\n",
    "\n",
    "# HSET - Add key value pairs to the Redis hash\n",
    "r.hset(\"UEBS:BusAn:Sept20:PGTM:TeachingStaff\", \"1\", \"Nav\")\n",
    "r.hset(\"UEBS:BusAn:Sept20:PGTM:TeachingStaff\", \"2\", \"David\")\n",
    "r.hset(\"UEBS:BusAn:Sept20:PGTM:TeachingStaff\", \"3\", \"Beccy\")\n",
    "\n",
    "# HGET - Retrieve the value for a specific key\n",
    "val = r.hget(\"UEBS:BusAn:Sept20:PGTM:TeachingStaff\", \"2\").decode(\"utf-8\")\n",
    "print (val)\n",
    "\n",
    "# HKEYS retrieves all the keys present in a hash. The redis-py returns the keys as a Python list.\n",
    "ky=r.hkeys(\"UEBS:BusAn:Sept20:PGTM:TeachingStaff\")\n",
    "#ky=r.keys(\"UOE:UEBS:*\")\n",
    "#ky=r.keys()\n",
    "\n",
    "# Loop through keys present in a hash and display the values \n",
    "for x in ky:\n",
    "    print(\"Key: \", x.decode(\"utf-8\"))\n",
    "    print(\"Value: \", r.hget(\"UEBS:BusAn:Sept20:PGTM:TeachingStaff\", x.decode(\"utf-8\")).decode(\"utf-8\"))    \n",
    "    \n",
    "\n",
    "# HKEYS retrieves all the keys present in a hash. The redis-py returns the keys as a Python list.\n",
    "print(\"The keys present in the Redis hash:\");\n",
    "print(r.hkeys(\"UEBS:BusAn:Sept20:PGTM:TeachingStaff\"))\n",
    "\n",
    "# HVALS retrieves all the keys present in a hash. The redis-py returns the values as a Python list.\n",
    "print(\"The values present in the Redis hash:\");\n",
    "print(r.hvals(\"UEBS:BusAn:Sept20:PGTM:TeachingStaff\"))\n",
    "\n",
    "# HGETALL retrieves all the keys and their values present in a hash. The redis-py returns the keys and values as a Python dictionary.\n",
    "print(\"The keys and values present in the Redis hash are:\")\n",
    "print(r.hgetall(\"UEBS:BusAn:Sept20:PGTM:TeachingStaff\"))\n",
    "\n",
    "# HDEL removes a key-value pair identified by a specific key.\n",
    "print(\"After removal...\")\n",
    "r.hdel(\"UEBS:BusAn:Sept20:PGTM:TeachingStaff\", 2)\n",
    "print(r.hgetall(\"UEBS:BusAn:Sept20:PGTM:TeachingStaff\"))"
   ]
  },
  {
   "cell_type": "markdown",
   "metadata": {},
   "source": [
    "## Using Redis hash with Python dictionary data type"
   ]
  },
  {
   "cell_type": "code",
   "execution_count": null,
   "metadata": {},
   "outputs": [],
   "source": [
    "# A Redis hash is a collection of key-value pairs. \n",
    "# Key is \"PGTM_Module:BEMM450\". Hash data type is used to store the Module object and which contains basic information about the module.\n",
    "\n",
    "# For encode and dump functions\n",
    "import json\n",
    "\n",
    "recordNav = {\n",
    "    \"Module Leader\": \"Nav\",\n",
    "    \"Module Name\": \"Databases for Business Analytics\",\n",
    "    \"Module Website\": \"https://vle.exeter.ac.uk/course/info.php?id=8733\",\n",
    "    \"github\": \"https://github.com/NavonilNM/BEMM459_RDBMS_NoSQL\",\n",
    "    \"Databases\": \"SQLIte3, REDIS, Neo4J, MongoDB\",\n",
    "    \"Students\": 60\n",
    "}\n",
    "\n",
    "recordDavid = {\n",
    "    \"Module Leader\": \"David\",\n",
    "    \"Module Name\": \"Programming for Business Analytics\",\n",
    "    \"github\": \"https://github.com/David/Python\",\n",
    "    \"Students\": 100\n",
    "}\n",
    "\n",
    "recordBeccy = {\n",
    "    \"Module Leader\": \"Beccy\",\n",
    "    \"Teaching Assistant\": \"Oki\",\n",
    "    \"Teaching Assistant\": \"Josh\",\n",
    "    \"Module Name\": \"Operations Analytics\",\n",
    "    \"Module Website\": \"https://vle.exeter.ac.uk/course/info.php?id=4500\",\n",
    "    \"Software\": \"SPSS, R\",\n",
    "    \"Students\": 40\n",
    "}\n",
    "\n",
    "# The encode and dumps function together performs the task of converting the dictionary to string and then to corresponding byte value.\n",
    "# using encode() + dumps() to convert to bytes\n",
    "res_bytes_recordNav = json.dumps(recordNav).encode('utf-8')\n",
    "res_bytes_recordDavid = json.dumps(recordDavid).encode('utf-8')\n",
    "res_bytes_recordBeccy = json.dumps(recordBeccy).encode('utf-8')\n",
    "\n",
    "r.hset(\"UEBS:BusAn:Sept20:PGTM:TeachingStaff_FullRecord\", \"1\", res_bytes_recordNav)\n",
    "r.hset(\"UEBS:BusAn:Sept20:PGTM:TeachingStaff_FullRecord\", \"2\", res_bytes_recordDavid)\n",
    "r.hset(\"UEBS:BusAn:Sept20:PGTM:TeachingStaff_FullRecord\", \"3\", res_bytes_recordBeccy)\n",
    "\n",
    "# HKEYS retrieves all the keys present in a hash. The redis-py returns the keys as a Python list.\n",
    "ky=r.hkeys(\"UEBS:BusAn:Sept20:PGTM:TeachingStaff_FullRecord\")\n",
    "\n",
    "# Loop through keys present in a hash and display the values \n",
    "for x in ky:\n",
    "    res_dict = json.loads(r.hget(\"UEBS:BusAn:Sept20:PGTM:TeachingStaff_FullRecord\", x.decode(\"utf-8\")).decode('utf-8'))\n",
    "    print(str(res_dict))\n",
    "    \n",
    "#r.hkeys(\"PGTM_Module:BEMM459\")\n",
    "#r.hvals(\"PGTM_Module:BEMM459\")\n",
    "#r.hgetall(\"PGTM_Module:BEMM459\")"
   ]
  },
  {
   "cell_type": "markdown",
   "metadata": {},
   "source": [
    "## Deletion example - Using Redis hash with Python dictionary data type"
   ]
  },
  {
   "cell_type": "code",
   "execution_count": null,
   "metadata": {},
   "outputs": [],
   "source": [
    "# For encode and dump functions\n",
    "import json\n",
    "\n",
    "hashName = \"UEBS:BusAn:Sept20:PGTM:Students\"\n",
    "\n",
    "# Adding four students to Nav's class\n",
    "studentEnrollmentNav = {1:\"Stud56748\", 2:\"Stud4000\", 3:\"Stud32123\", 4:\"Stud32555\"}\n",
    "studentEnrollmentBeccy = {1:\"Stud1\", 2:\"Stud2\", 3:\"Stud3\", 4:\"Stud4\", 5:\"Stud5\", 6:\"Stud6\"}\n",
    "\n",
    "# Convert to bytes\n",
    "res_bytes_studentsNav = json.dumps(studentEnrollmentNav).encode('utf-8')\n",
    "res_bytes_studentsBeccy = json.dumps(studentEnrollmentBeccy).encode('utf-8')\n",
    "\n",
    "# Add dict to hash\n",
    "r.hset(hashName, \"1\", res_bytes_studentsNav)\n",
    "r.hset(hashName, \"2\", res_bytes_studentsBeccy)\n",
    "\n",
    "# Check if a key exists in Redis hash\n",
    "key = 1\n",
    "print(\"Does the key {}, exists:\".format(key))\n",
    "print(r.hexists(hashName, key))\n",
    "\n",
    "# Print the key value pairs of the Redis hash\n",
    "print(r.hgetall(hashName))\n",
    "\n",
    "# Remove a key (deleting a key)\n",
    "r.hdel(hashName, key)\n",
    "\n",
    "# Print the key after a key-value is removed\n",
    "print(\"After deletion of a key:\")\n",
    "print(r.hgetall(hashName))"
   ]
  },
  {
   "cell_type": "markdown",
   "metadata": {},
   "source": [
    "# 3. Example Commands \n",
    "### Try out other commands from Week 6. Also refer to https://redis.io/ for syntax"
   ]
  },
  {
   "cell_type": "code",
   "execution_count": null,
   "metadata": {},
   "outputs": [],
   "source": [
    "# The incr/decr increments/decrements the number stored at key by one\n",
    "\n",
    "key = \"UEBS:BusAn:Sept20:PGTM:StudentNumber\"\n",
    "r.set(key,1)\n",
    "r.get(key).decode(\"utf-8\")\n",
    "\n",
    "# Increment\n",
    "r.incr(key)\n",
    "r.incr(key)\n",
    "r.incr(key)\n",
    "r.incr(key)\n",
    "r.incr(key)\n",
    "r.incr(key)\n",
    "print(r.get(key).decode(\"utf-8\"))\n",
    "\n",
    "# Decrease\n",
    "r.decr(key)\n",
    "print(r.get(key).decode(\"utf-8\"))"
   ]
  },
  {
   "cell_type": "markdown",
   "metadata": {},
   "source": [
    "# 4. Redis Datatype - Lists"
   ]
  },
  {
   "cell_type": "code",
   "execution_count": null,
   "metadata": {},
   "outputs": [],
   "source": [
    "# Redis Lists are lists of strings, sorted by insertion order. \n",
    "# You can add elements to a Redis List on the head (LPUSH) or on the tail (RPUSH).\n",
    "\n",
    "key = \"UEBS:BusAn:Sept20:PGTM:Attendance\"\n",
    "\n",
    "r.rpush (key, \"Student-23456\")\n",
    "r.rpush (key, \"Student-11345\")\n",
    "r.rpush (key, \"Student-56734\")\n",
    "r.rpush (key, \"Student-06784\")\n",
    "\n",
    "# llen returns the length of the list stored at key.\n",
    "print (\"Number of students that attended Week 8 lecture: \", r.llen (key))\n",
    "\n",
    "# lindex returns the element at index index in the list stored at key. The index is zero-based, so 0 means the first element.\n",
    "print (\"Returning first student: \", r.lindex (key, 0).decode(\"utf-8\"))\n",
    "print (\"Returning third student: \", r.lindex (key, 2).decode(\"utf-8\"))"
   ]
  },
  {
   "cell_type": "code",
   "execution_count": null,
   "metadata": {},
   "outputs": [],
   "source": [
    "# lrange() returns the specified elements of the list stored at key. 0 is the first element. -1 is the last element of the list.\n",
    "r.lrange(key, 0, -1)"
   ]
  },
  {
   "cell_type": "code",
   "execution_count": null,
   "metadata": {},
   "outputs": [],
   "source": [
    "# lrange() returns a subset - second, third and fourth elements. -1 is the last element of the list.\n",
    "r.lrange(key, 1, 3)"
   ]
  },
  {
   "cell_type": "markdown",
   "metadata": {},
   "source": [
    "# 5. Redis Datatype - Sets"
   ]
  },
  {
   "cell_type": "code",
   "execution_count": null,
   "metadata": {},
   "outputs": [],
   "source": [
    "# Sorted Sets ZADD - adding a sorted set records expects a dictionary in the format of {[VALUE]: [INDEX]}:\n",
    "# Redis Sorted Sets are non-repeating collections of Strings. However, every member of a Sorted Set is associated with a score, that is used in order the strings from the smallest to the greatest score. \n",
    "# While members are unique, the scores may be repeated.\n",
    "\n",
    "# Initialize sorted set with 3 values\n",
    "r.zadd(\"UEBS:PGTM:BEMM459:Students\", \n",
    "                        {\"Student_HE\": 1,\n",
    "                         \"Student_NM\": 2, \n",
    "                         \"Student_KK\": 3, \n",
    "                         \"Student_TT\": 4, \n",
    "                         \"Student_CC\": 5})\n",
    "\n",
    "# Displaying all records\n",
    "r.zrange(\"UEBS:PGTM:BEMM459:Students\", 0, -1)"
   ]
  },
  {
   "cell_type": "code",
   "execution_count": null,
   "metadata": {},
   "outputs": [],
   "source": [
    "# Adding item to sorted set\n",
    "r.zadd(\"UEBS:PGTM:BEMM459:Students\", {\"New Student***\": 4})\n",
    "\n",
    "# Displaying all records\n",
    "r.zrange(\"UEBS:PGTM:BEMM459:Students\", 0, -1)"
   ]
  },
  {
   "cell_type": "code",
   "execution_count": null,
   "metadata": {},
   "outputs": [],
   "source": [
    "# If a specified member is already a member of the sorted set, the score is updated and the element reinserted at the right position to ensure the correct ordering.\n",
    "\n",
    "# Updating score of an member already present in the sorted set\n",
    "r.zadd(\"UEBS:PGTM:BEMM459:Students\", {\"New Student***\": 2})\n",
    "\n",
    "# Displaying all records\n",
    "r.zrange(\"UEBS:PGTM:BEMM459:Students\", 0, -1)"
   ]
  },
  {
   "cell_type": "markdown",
   "metadata": {},
   "source": [
    "# 6. Time to Live"
   ]
  },
  {
   "cell_type": "code",
   "execution_count": null,
   "metadata": {},
   "outputs": [],
   "source": [
    "# Example of Time To Live (TTL). Use this to temporarily store useful data.\n",
    "# Every key has TTL associated with it and the default value is -1.\n",
    "# Set this number to a positive value and which represents the number of seconds remaining before the data expires.\n",
    "\n",
    "from datetime import datetime\n",
    "# retrieving current time using using datetime object\n",
    "now = datetime.now()\n",
    "\n",
    "r.set(\"NavAPP:customer:ip_address\", \"123.114.68.111\")\n",
    "r.set(\"NavAPP:customer:timestamp\", now.strftime(\"%H:%M:%S\"))\n",
    "r.set(\"NavAPP:customer:last_URL\", \"www.product.com/id=1234\")\n",
    "\n",
    "print(r.get(\"NavAPP:customer:ip_address\"))\n",
    "print(r.get(\"NavAPP:customer:timestamp\"))\n",
    "\n",
    "# Displaying time to live for one key - TTL in milliseconds\n",
    "# -1, if the key does not have expiry timeout. \n",
    "r.ttl (\"NavAPP:customer:last_URL\")\n",
    "\n"
   ]
  },
  {
   "cell_type": "code",
   "execution_count": null,
   "metadata": {},
   "outputs": [],
   "source": [
    "# Set expiry to 60 seconds\n",
    "r.expire(\"NavAPP:customer:last_URL\", 60)"
   ]
  },
  {
   "cell_type": "code",
   "execution_count": null,
   "metadata": {},
   "outputs": [],
   "source": [
    "# Monitor TTL and value of key before and after it expires\n",
    "print (r.ttl (\"NavAPP:customer:last_URL\"))\n",
    "print(r.get(\"NavAPP:customer:last_URL\"))"
   ]
  },
  {
   "cell_type": "markdown",
   "metadata": {},
   "source": [
    "# 7. Pattern Matching"
   ]
  },
  {
   "cell_type": "code",
   "execution_count": null,
   "metadata": {},
   "outputs": [],
   "source": [
    "# Redis KEYS command is used to search keys with a matching pattern. Use * and ? for pattern matching\n",
    "# Note: This command is intended for debugging and special operations, such as changing your keyspace layout. \n",
    "# Don't use KEYS in your regular application code. \n",
    "# If you're looking for a way to find keys in a subset of your keyspace, consider using SCAN or sets.\n",
    "\n",
    "'''\n",
    "Supported patterns:\n",
    "\n",
    "h?llo matches hello, hallo and hxllo\n",
    "h*llo matches hllo and heeeello\n",
    "h[ae]llo matches hello and hallo, but not hillo\n",
    "h[^e]llo matches hallo, hbllo, ... but not hello\n",
    "h[a-b]llo matches hallo and hbllo\n",
    "Use \\ to escape special characters if you want to match them verbatim.\n",
    "\n",
    "'''\n",
    "\n",
    "vals = r.keys(\"*N*\")\n",
    "\n",
    "# Loop through the values\n",
    "for x in vals:\n",
    "    print(\"Key: \", x.decode(\"utf-8\"))\n",
    "    key=x.decode(\"utf-8\")\n",
    "    print(\"Value: \", r.get(key).decode(\"utf-8\"))"
   ]
  },
  {
   "cell_type": "code",
   "execution_count": null,
   "metadata": {},
   "outputs": [],
   "source": [
    "# Note: This command is intended for debugging and special operations, such as changing your keyspace layout. \n",
    "\n",
    "# Return all keys\n",
    "r.keys()"
   ]
  },
  {
   "cell_type": "code",
   "execution_count": null,
   "metadata": {},
   "outputs": [],
   "source": [
    "# RANDOMKEY command is used to get a random key from the database.\n",
    "r.randomkey()"
   ]
  },
  {
   "cell_type": "markdown",
   "metadata": {},
   "source": [
    "# 8. Example Application\n",
    "### Sale of memorabilia in Exeter Student Guild Shop and inventory control"
   ]
  },
  {
   "cell_type": "code",
   "execution_count": null,
   "metadata": {},
   "outputs": [],
   "source": [
    "import random\n",
    "\n",
    "\n",
    "# Redis hash of field-value pairs is used. Eash has has a key that with an integer (we are importing random())\n",
    "random.seed(678)\n",
    "\n",
    "# The prefix SGU creates a namespace. We are only selling Mugs (SGU:Mugs)\n",
    "\n",
    "SGU_mugs = {f\"SGU_Mug:{random.getrandbits(32)}\": i for i in (\n",
    "    {\n",
    "        \"color\": \"black\",\n",
    "        \"price\": 9.99,\n",
    "        \"style\": \"fitted\",\n",
    "        \"quantity\": 1000,\n",
    "        \"npurchased\": 0,\n",
    "    },\n",
    "    {\n",
    "        \"color\": \"green\",\n",
    "        \"price\": 9.99,\n",
    "        \"style\": \"open mug\",\n",
    "        \"quantity\": 500,\n",
    "        \"npurchased\": 0,\n",
    "    },\n",
    "    {\n",
    "        \"color\": \"yellow\",\n",
    "        \"price\": 9.99,\n",
    "        \"style\": \"long mug\",\n",
    "        \"quantity\": 1500,\n",
    "        \"npurchased\": 0,\n",
    "    },\n",
    "    {\n",
    "        \"color\": \"purple\",\n",
    "        \"price\": 9.99,\n",
    "        \"style\": \"recyclable\",\n",
    "        \"quantity\": 5000,\n",
    "        \"npurchased\": 0,\n",
    "    },\n",
    "    {\n",
    "        \"color\": \"white\",\n",
    "        \"price\": 9.99,\n",
    "        \"style\": \"baseball\",\n",
    "        \"quantity\": 200,\n",
    "        \"npurchased\": 0,\n",
    "    })\n",
    "}\n"
   ]
  },
  {
   "cell_type": "code",
   "execution_count": null,
   "metadata": {},
   "outputs": [],
   "source": [
    "# database 7 will be used\n",
    "\n",
    "import redis\n",
    "\n",
    "r7 = redis.Redis(db=7)\n",
    "\n",
    "# Delete existing keys\n",
    "allkeys=r7.keys(\"*\")\n",
    "\n",
    "for x in allkeys:\n",
    "    print(\"Deleting Key: \", x.decode(\"utf-8\"))\n",
    "    r7.delete(x.decode(\"utf-8\"))"
   ]
  },
  {
   "cell_type": "code",
   "execution_count": null,
   "metadata": {},
   "outputs": [],
   "source": [
    "# Adding data to database using HMSET\n",
    "\n",
    "# The code block above also introduces the concept of Redis pipelining, which is a way to cut down the number of round-trip transactions that you need to write or read data from your Redis server. \n",
    "# If you would have just called r.hmset() three times, then this would necessitate a back-and-forth round trip operation for each row written.\n",
    "\n",
    "with r7.pipeline() as pipe:\n",
    "    for mug_id, SGU_Mug in SGU_mugs.items():\n",
    "            pipe.hmset(mug_id, SGU_Mug)   \n",
    "    pipe.execute()"
   ]
  },
  {
   "cell_type": "code",
   "execution_count": null,
   "metadata": {},
   "outputs": [],
   "source": [
    "# Saving data\n",
    "\n",
    "r7.bgsave()"
   ]
  },
  {
   "cell_type": "code",
   "execution_count": null,
   "metadata": {},
   "outputs": [],
   "source": [
    "r7.keys(\"SGU_Mug*\")"
   ]
  },
  {
   "cell_type": "code",
   "execution_count": null,
   "metadata": {},
   "outputs": [],
   "source": [
    "print(r7.hgetall(\"SGU_Mug:7556199\"))"
   ]
  },
  {
   "cell_type": "code",
   "execution_count": null,
   "metadata": {},
   "outputs": [],
   "source": [
    "# If item is in stock, increase its npurchased by 1 and decrease its quantity (inventory) by 1.\n",
    "\n",
    "r7.hincrby(\"SGU_Mug:7556199\", \"npurchased\", 1)\n",
    "r7.hincrby(\"SGU_Mug:7556199\", \"quantity\", -1)"
   ]
  },
  {
   "cell_type": "code",
   "execution_count": null,
   "metadata": {
    "scrolled": true
   },
   "outputs": [],
   "source": [
    "# View values\n",
    "\n",
    "print(r7.hget(\"SGU_Mug:7556199\", \"npurchased\"))\n",
    "print(r7.hget(\"SGU_Mug:7556199\", \"quantity\"))"
   ]
  },
  {
   "cell_type": "code",
   "execution_count": null,
   "metadata": {},
   "outputs": [],
   "source": [
    "import logging\n",
    "\n",
    "logging.basicConfig()\n",
    "\n",
    "class OutOfStockError(Exception):\n",
    "    \"\"\"Raised when mugs are all out of stock\"\"\"\n",
    "\n",
    "def buyitem(r: redis.Redis, itemid: int) -> None:\n",
    "    with r.pipeline() as pipe:\n",
    "        error_count = 0\n",
    "        while True:\n",
    "            try:\n",
    "                # Get available inventory, watching for changes\n",
    "                # related to this itemid before the transaction\n",
    "                pipe.watch(itemid)\n",
    "                nleft: bytes = r.hget(itemid, \"quantity\")\n",
    "                if nleft > b\"0\":\n",
    "                    pipe.multi()\n",
    "                    pipe.hincrby(itemid, \"quantity\", -1)\n",
    "                    pipe.hincrby(itemid, \"npurchased\", 1)\n",
    "                    pipe.execute()\n",
    "                    break\n",
    "                else:\n",
    "                    # Stop watching the itemid and raise to break out\n",
    "                    pipe.unwatch()\n",
    "                    raise OutOfStockError(\n",
    "                        f\"Sorry, {itemid} is out of stock!\"\n",
    "                    )\n",
    "            except redis.WatchError:\n",
    "                # Log total num. of errors by this user to buy this item,\n",
    "                # then try the same process again of WATCH/HGET/MULTI/EXEC\n",
    "                error_count += 1\n",
    "                logging.warning(\n",
    "                    \"WatchError #%d: %s; retrying\",\n",
    "                    error_count, itemid\n",
    "                )\n",
    "    return None"
   ]
  },
  {
   "cell_type": "code",
   "execution_count": null,
   "metadata": {},
   "outputs": [],
   "source": [
    "buyitem(r7, \"SGU_Mug:7556199\")\n",
    "buyitem(r7, \"SGU_Mug:7556199\")\n",
    "buyitem(r7, \"SGU_Mug:7556199\")\n",
    "buyitem(r7, \"SGU_Mug:7556199\")\n",
    "buyitem(r7, \"SGU_Mug:7556199\")\n",
    "buyitem(r7, \"SGU_Mug:7556199\")\n",
    "r7.hmget(\"SGU_Mug:7556199\", \"quantity\", \"npurchased\")"
   ]
  },
  {
   "cell_type": "code",
   "execution_count": null,
   "metadata": {},
   "outputs": [],
   "source": [
    "# Buy remaining 4993 hats for item 7556199 and deplete stock to 0\n",
    "for _ in range(4993):\n",
    "    buyitem(r7, \"SGU_Mug:7556199\")\n",
    "r7.hmget(\"SGU_Mug:7556199\", \"quantity\", \"npurchased\")"
   ]
  },
  {
   "cell_type": "code",
   "execution_count": null,
   "metadata": {},
   "outputs": [],
   "source": [
    "r7.hmget(\"SGU_Mug:7556199\", \"color\", \"price\", \"style\", \"quantity\", \"npurchased\")"
   ]
  },
  {
   "cell_type": "code",
   "execution_count": null,
   "metadata": {},
   "outputs": [],
   "source": [
    "buyitem(r7, \"SGU_Mug:7556199\")"
   ]
  },
  {
   "cell_type": "code",
   "execution_count": null,
   "metadata": {},
   "outputs": [],
   "source": [
    "r7.lastsave()  # Redis command: LASTSAVE"
   ]
  },
  {
   "cell_type": "code",
   "execution_count": null,
   "metadata": {},
   "outputs": [],
   "source": [
    "r7.bgsave()"
   ]
  },
  {
   "cell_type": "code",
   "execution_count": null,
   "metadata": {},
   "outputs": [],
   "source": [
    "r7.lastsave()"
   ]
  }
 ],
 "metadata": {
  "kernelspec": {
   "display_name": "Python 3",
   "language": "python",
   "name": "python3"
  },
  "language_info": {
   "codemirror_mode": {
    "name": "ipython",
    "version": 3
   },
   "file_extension": ".py",
   "mimetype": "text/x-python",
   "name": "python",
   "nbconvert_exporter": "python",
   "pygments_lexer": "ipython3",
   "version": "3.7.3"
  }
 },
 "nbformat": 4,
 "nbformat_minor": 2
}
