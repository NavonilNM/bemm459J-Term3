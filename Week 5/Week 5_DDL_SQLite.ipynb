{
 "cells": [
  {
   "cell_type": "code",
   "execution_count": null,
   "metadata": {},
   "outputs": [],
   "source": [
    "import sqlite3\n",
    "\n",
    "# Display SQLite version number\n",
    "print (sqlite3.sqlite_version)"
   ]
  },
  {
   "cell_type": "markdown",
   "metadata": {},
   "source": [
    "### Connecting to DB"
   ]
  },
  {
   "cell_type": "code",
   "execution_count": null,
   "metadata": {},
   "outputs": [],
   "source": [
    "# Connect to the Database - the DATABASE must already exisit\n",
    "# Example of path: 'C:\\\\Users\\\\nm319\\\\OneDrive - University of Exeter\\\\__Exeter Teaching (2020-21)\\\\Lab Sessions\\\\Week 3\\\\XXX.db'\n",
    "# conn=sqlite3.connect('C:\\\\Users\\\\nm319\\\\OneDrive - University of Exeter\\\\__Exeter Teaching (2020-21)\\\\Lab Sessions\\\\Week 5\\\\BEMM459.db')\n",
    "conn=sqlite3.connect('S:\\\\SQLite\\\\BEMM459.db')    \n",
    "    \n",
    "# conn is an object of the Connection class - the next command is only for display\n",
    "print(type(conn))\n",
    "\n",
    "# The connection object (conn) has access to various methods of the Connection class. \n",
    "# We are using the method cursor() and which returns a cursor object.\n",
    "# The cursor object is essential to perform any operation on the database (CRUD operations).\n",
    "cur=conn.cursor()\n",
    "\n",
    "# The next command is only for display\n",
    "print(type(cur))"
   ]
  },
  {
   "cell_type": "markdown",
   "metadata": {},
   "source": [
    "### Listing tables"
   ]
  },
  {
   "cell_type": "code",
   "execution_count": null,
   "metadata": {},
   "outputs": [],
   "source": [
    "# Listing all tables in your database (suggest using SQLIte prompt and command .tables)\n",
    "# Once we have the cursor object, we can perform all SQL operations with the help of execute() method.\n",
    "\n",
    "# define a function\n",
    "def tables_in_sqlite_db(conn):\n",
    "    cursor = conn.execute(\"SELECT name FROM sqlite_master WHERE type='table';\")\n",
    "    tables = [\n",
    "        v[0] for v in cursor.fetchall()\n",
    "        if v[0] != \"sqlite_sequence\"\n",
    "    ]\n",
    "    cursor.close()\n",
    "    return tables"
   ]
  },
  {
   "cell_type": "code",
   "execution_count": null,
   "metadata": {},
   "outputs": [],
   "source": [
    "# call the function and pass connection object \n",
    "tables = tables_in_sqlite_db(conn)\n",
    "\n",
    "#print tables in the current database\n",
    "print(tables)"
   ]
  },
  {
   "cell_type": "markdown",
   "metadata": {},
   "source": [
    "### Adding tables using SQL DDL Statement"
   ]
  },
  {
   "cell_type": "code",
   "execution_count": null,
   "metadata": {},
   "outputs": [],
   "source": [
    "# Create a new table called ECC_DEPARTMENT\n",
    "# Note: If the table is created succesfully, executing the code again will lead to exception\n",
    "\n",
    "# Once we have the cursor object, we can perform all SQL operations with the help of .execute() method\n",
    "\n",
    "qry='''\n",
    "CREATE TABLE ECC_DEPARTMENT (\n",
    "departmentID INTEGER PRIMARY KEY,\n",
    "departmentName TEXT (30),\n",
    "departmentAddress TEXT (40)\n",
    ");\n",
    "'''\n",
    "try:\n",
    "        cur.execute(qry)\n",
    "        print ('Table created successfully')\n",
    "except:\n",
    "# If table already exists then use the SQLite console to connect to the database (BEMM459.db) and then use the drop table command.\n",
    "# .. Altenatively, use the SQLiteStudio GUI to delete table ECC_DEPARTMENT and execute this code block again.\n",
    "        print ('Error in creating table as table exists.. using drop table. Please execute this command again for create the new table.')\n",
    "        \n",
    "        # Use the next statement with extreme caution as both table and data will be lost\n",
    "        cur.execute(\"DROP TABLE IF EXISTS ECC_DEPARTMENT;\")"
   ]
  },
  {
   "cell_type": "code",
   "execution_count": null,
   "metadata": {},
   "outputs": [],
   "source": [
    "# Create four tables using the method executescript() that is defined in the cursor class. \n",
    "# executescript() makes it possible to execute multiple SQL statements.\n",
    "\n",
    "qry='''\n",
    "CREATE TABLE ECC_PROGRAMME (\n",
    "        programmeID INTEGER   PRIMARY KEY,\n",
    "        programmeName   TEXT (40),\n",
    "        programmeDepartmentID INTEGER REFERENCES ECC_DEPARTMENT(departmentID)\n",
    "    );\n",
    "CREATE TABLE ECC_STUDENT (\n",
    "        studentID INTEGER   PRIMARY KEY AUTOINCREMENT,\n",
    "        studentFirstName   TEXT (30),\n",
    "        studentLastName   TEXT (30),\n",
    "        studentProgramme INTEGER REFERENCES PROGRAMME(programmeID)\n",
    "    );\n",
    "CREATE TABLE ECC_MODULE (\n",
    "        moduleID     INTEGER     PRIMARY KEY,\n",
    "        moduleName TEXT (30)\n",
    "    );\n",
    "CREATE TABLE ECC_PROGRAMME_MODULE (\n",
    "        programmemoduleID     INTEGER     PRIMARY KEY AUTOINCREMENT,\n",
    "        programmemoduleProgrammeID    INTEGER   REFERENCES ECC_PROGRAMME (programmeID),\n",
    "        programmemoduleModuleID INTEGER  REFERENCES ECC_MODULE (moduleID),\n",
    "        programmemoduleCore TEXT (10)  \n",
    "    );\n",
    "'''\n",
    "try:\n",
    "        cur.executescript(qry)\n",
    "        print ('Tables created successfully')\n",
    "except:\n",
    "        print ('Error in creating tables')\n",
    "        \n",
    "        # Use the next statement with extreme caution as both table and data will be lost\n",
    "        # cur.execute(\"DROP TABLE IF EXISTS ECC_PROGRAMME;\")\n",
    "        # cur.execute(\"DROP TABLE IF EXISTS ECC_STUDENT;\")\n",
    "        # cur.execute(\"DROP TABLE IF EXISTS ECC_MODULE;\")\n",
    "        # cur.execute(\"DROP TABLE IF EXISTS ECC_PROGRAMME_MODULE;\")"
   ]
  },
  {
   "cell_type": "code",
   "execution_count": null,
   "metadata": {},
   "outputs": [],
   "source": [
    "# check to see if the new table is created\n",
    "# call the function and pass connection object \n",
    "tables = tables_in_sqlite_db(conn)\n",
    "\n",
    "#print tables in the current database\n",
    "print(tables)"
   ]
  },
  {
   "cell_type": "markdown",
   "metadata": {},
   "source": [
    "### Inserting records using SQL DML Statement"
   ]
  },
  {
   "cell_type": "code",
   "execution_count": null,
   "metadata": {},
   "outputs": [],
   "source": [
    "# Insert one record in table ECC_DEPARTMENT\n",
    "# Commit only if no exception is encountered, else rollback\n",
    "\n",
    "qry=\"insert into ECC_DEPARTMENT values (2, 'Business School', '19 Orchid Road, Exeter EX3 1GT');\"\n",
    "\n",
    "try:\n",
    "        cur.execute(qry)\n",
    "        conn.commit()\n",
    "        print ('One record inserted successfully..commit')\n",
    "except:\n",
    "        print ('Error in insert operation..rollback')\n",
    "        conn.rollback()\n",
    "        print(conn)"
   ]
  },
  {
   "cell_type": "code",
   "execution_count": null,
   "metadata": {},
   "outputs": [],
   "source": [
    "# Insert multiple records in table ECC_DEPARTMENT\n",
    "\n",
    "qry=\"insert into ECC_DEPARTMENT (departmentID, departmentName, departmentAddress) values (?,?,?);\"\n",
    "collegelist=[(10,'College of Business and Management','11 King Edwart Street, Exeter, EX6 7ED'),\n",
    "           (20, 'College of Management','13 King Edwart Street, Exeter, EX6 7ED'),\n",
    "           (30,'College of Accounting & Finance', '51 Rosebloom Avenue, Exeter, EX1 5RT'),\n",
    "           (40,'College of Economics', '116 Exeter High Street, Exeter, EX4 5TY')]\n",
    "\n",
    "try:\n",
    "        cur.executemany(qry, collegelist)\n",
    "        conn.commit()\n",
    "        print ('Records inserted successfully..committed')\n",
    "except:\n",
    "        print ('Error in insert operation..rollback')\n",
    "        conn.rollback()"
   ]
  },
  {
   "cell_type": "code",
   "execution_count": null,
   "metadata": {},
   "outputs": [],
   "source": [
    "# Insert one record in table ECC_DEPARTMENT based on user input\n",
    "\n",
    "inputDepartmentNum=int(input('Enter ECC_department number:'))\n",
    "inputName=input('Enter name of ECC_department to update:')\n",
    "inputAddress=input('Enter name of ECC_department address:')\n",
    "\n",
    "qry=\"insert into ECC_DEPARTMENT values (?,?,?);\"\n",
    "\n",
    "try:\n",
    "        cur.execute(qry, (inputDepartmentNum,inputName, inputAddress))\n",
    "        print ('New department added')\n",
    "        conn.commit()\n",
    "except:\n",
    "        print ('Error in adding department .. rollback')\n",
    "        conn.rollback()\n"
   ]
  },
  {
   "cell_type": "markdown",
   "metadata": {},
   "source": [
    "### Querying data"
   ]
  },
  {
   "cell_type": "code",
   "execution_count": null,
   "metadata": {},
   "outputs": [],
   "source": [
    "# Query and display one record from the table ECC_DEPARTMENT\n",
    "\n",
    "# Prepare the query String\n",
    "qry=\"select * from ECC_DEPARTMENT;\"\n",
    "\n",
    "# Execute query on SQLite\n",
    "cur.execute(qry)\n",
    "\n",
    "# Fetch and display one row\n",
    "row=cur.fetchone()\n",
    "\n",
    "print (row)"
   ]
  },
  {
   "cell_type": "code",
   "execution_count": null,
   "metadata": {},
   "outputs": [],
   "source": [
    "# Query and display records from the table ECC_DEPARTMENT (all rows)\n",
    "\n",
    "# Prepare the query String\n",
    "qry=\"select * from ECC_DEPARTMENT;\"\n",
    "\n",
    "# Execute query on SQLite\n",
    "cur.execute(qry)\n",
    "\n",
    "# Fetch and display all rows\n",
    "rows=cur.fetchall()\n",
    "\n",
    "for row in rows:\n",
    "    print (row)"
   ]
  },
  {
   "cell_type": "code",
   "execution_count": null,
   "metadata": {},
   "outputs": [],
   "source": [
    "# Query and display records from the table ECC_DEPARTMENT based on user input\n",
    "\n",
    "inputDepartmentNum=input ('Enter ECE_department number:')\n",
    "qry=\"select * from ECC_department where departmentID=?\";\n",
    "cur.execute(qry, (inputDepartmentNum,))\n",
    "row=cur.fetchone()\n",
    "print (row)\n",
    "\n",
    "# IMPORTANT: Individual items in the tuple can be accessed by index .. we are accessing the second attribute\n",
    "print (\"Department Name is \", row[1])"
   ]
  },
  {
   "cell_type": "markdown",
   "metadata": {},
   "source": [
    "### Updating data using SQL DML Statement"
   ]
  },
  {
   "cell_type": "code",
   "execution_count": null,
   "metadata": {},
   "outputs": [],
   "source": [
    "# Update table based on user input\n",
    "\n",
    "inputName=input('Enter name of ECC_department to update:')\n",
    "inputDepartmentNum=int(input('Enter new department number:'))\n",
    "qry='update ECC_department set departmentID=? where departmentName=?'\n",
    "\n",
    "try:\n",
    "        cur.execute(qry, (inputDepartmentNum,inputName))\n",
    "        print ('Department name updated')\n",
    "        conn.commit()\n",
    "except:\n",
    "        print ('Error in update operation .. rollback')\n",
    "        conn.rollback()"
   ]
  },
  {
   "cell_type": "markdown",
   "metadata": {},
   "source": [
    "### Deleting data using SQL DML Statement"
   ]
  },
  {
   "cell_type": "code",
   "execution_count": null,
   "metadata": {},
   "outputs": [],
   "source": [
    "# Delete record based on user input\n",
    "\n",
    "inputName=input('Enter name of ECC_department to delete:')\n",
    "qry='delete from ECC_department where departmentName=?'\n",
    "try:\n",
    "        cur.execute(qry, (inputName,))\n",
    "        print ('Department deleted')\n",
    "        conn.commit()\n",
    "except:\n",
    "        print ('Error in deleting department', inputName)\n",
    "        conn.rollback()\n"
   ]
  },
  {
   "cell_type": "markdown",
   "metadata": {},
   "source": [
    "# Database Backup and Restore"
   ]
  },
  {
   "cell_type": "markdown",
   "metadata": {},
   "source": [
    "### Database backup"
   ]
  },
  {
   "cell_type": "code",
   "execution_count": null,
   "metadata": {},
   "outputs": [],
   "source": [
    "# Creating databse dump ... we are connected to BEMM459.db\n",
    "# If conn object is closed then uncomment the next line and execute code\n",
    "# conn=sqlite3.connect('C:\\\\Users\\\\nm319\\\\OneDrive - University of Exeter\\\\__Exeter Teaching (2020-21)\\\\Lab Sessions\\\\Week 4\\\\BEMM459.db')\n",
    "\n",
    "\n",
    "file=open(\"C:\\\\Users\\\\nm319\\\\OneDrive - University of Exeter\\\\__Exeter Teaching (2020-21)\\\\Lab Sessions\\\\Week 5\\\\BEMM459_backup.sql\",'w')\n",
    "\n",
    "for line in conn.iterdump():\n",
    "        file.write('{}\\n'.format(line))\n",
    "        \n",
    "file.close()\n",
    "\n",
    "# Closing database connection\n",
    "# conn.close()"
   ]
  },
  {
   "cell_type": "markdown",
   "metadata": {},
   "source": [
    "### Database restore"
   ]
  },
  {
   "cell_type": "code",
   "execution_count": null,
   "metadata": {},
   "outputs": [],
   "source": [
    "# Creating new database, reading content of the dump file and executing SQL statements in it using cursor object's executescript() method\n",
    "\n",
    "connRestore=sqlite3.connect('C:\\\\Users\\\\nm319\\\\OneDrive - University of Exeter\\\\__Exeter Teaching (2020-21)\\\\Lab Sessions\\\\Week 5\\\\BEMM459_BKUP.db')\n",
    "\n",
    "file=open('BEMM459_backup.sql','r')\n",
    "qry=file.read()\n",
    "file.close()\n",
    "\n",
    "curRestore=connRestore.cursor()\n",
    "curRestore.executescript(qry)\n",
    "\n",
    "# call function (defined earlier) and pass connection object \n",
    "tables = tables_in_sqlite_db(connRestore)\n",
    "\n",
    "#print tables in the newly restored database\n",
    "print(tables)\n",
    "\n",
    "connRestore.close()"
   ]
  },
  {
   "cell_type": "code",
   "execution_count": null,
   "metadata": {},
   "outputs": [],
   "source": [
    "# Close database connection to BEMM459.db\n",
    "conn.close()"
   ]
  }
 ],
 "metadata": {
  "kernelspec": {
   "display_name": "Python 3",
   "language": "python",
   "name": "python3"
  },
  "language_info": {
   "codemirror_mode": {
    "name": "ipython",
    "version": 3
   },
   "file_extension": ".py",
   "mimetype": "text/x-python",
   "name": "python",
   "nbconvert_exporter": "python",
   "pygments_lexer": "ipython3",
   "version": "3.6.5"
  }
 },
 "nbformat": 4,
 "nbformat_minor": 2
}
