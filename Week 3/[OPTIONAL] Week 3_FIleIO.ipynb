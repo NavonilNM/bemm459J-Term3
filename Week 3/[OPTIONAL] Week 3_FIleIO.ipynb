{
 "cells": [
  {
   "cell_type": "markdown",
   "metadata": {},
   "source": [
    "# <center>BEMM459 Week 2</center>\n",
    "## <center>File IO</center>"
   ]
  },
  {
   "cell_type": "markdown",
   "metadata": {},
   "source": [
    "# 1. Reading file (mode parameter 'r')"
   ]
  },
  {
   "cell_type": "markdown",
   "metadata": {},
   "source": [
    "### Reading all content from a file"
   ]
  },
  {
   "cell_type": "code",
   "execution_count": null,
   "metadata": {
    "scrolled": false
   },
   "outputs": [],
   "source": [
    "#Opening file in read only mode\n",
    "file=open('top-quotes.txt','r')\n",
    "\n",
    "#reading content (bytes) - by default this is the file size\n",
    "content=file.read()\n",
    "\n",
    "#closing the file\n",
    "file.close()\n",
    "\n",
    "#displaying content\n",
    "content"
   ]
  },
  {
   "cell_type": "markdown",
   "metadata": {},
   "source": [
    "### Reading a pre-defined number of bytes (charaters) from a file"
   ]
  },
  {
   "cell_type": "code",
   "execution_count": null,
   "metadata": {},
   "outputs": [],
   "source": [
    "#Opening file in read only mode\n",
    "file=open('top-quotes.txt','r')\n",
    "\n",
    "#reading content (62 bytes) - by default this is the file size\n",
    "content=file.read(62)\n",
    "\n",
    "#Closing file\n",
    "file.close()\n",
    "\n",
    "#displaying content\n",
    "content"
   ]
  },
  {
   "cell_type": "markdown",
   "metadata": {},
   "source": [
    "### Reading a file one line at a time - Method 1"
   ]
  },
  {
   "cell_type": "code",
   "execution_count": null,
   "metadata": {},
   "outputs": [],
   "source": [
    "\"\"\"\n",
    "The file object acts as a iterator. The next method on the file object is used to read the file one line at a time\n",
    "Python’s print() function comes with a parameter called ‘end’. By default, the value of this parameter is ‘\\n’, i.e. the new line character. You can end a print statement with any character/string using this parameter; end = ' ' ends the output with a <space>  \n",
    "\"\"\"\n",
    "\n",
    "file=open(\"top-quotes.txt\",\"r\")\n",
    "while True:\n",
    "        try:\n",
    "                line=next(file)\n",
    "                print (line, end=\"\")\n",
    "        except StopIteration:\n",
    "                break \n",
    "                \n",
    "#Closing file\n",
    "file.close()"
   ]
  },
  {
   "cell_type": "markdown",
   "metadata": {},
   "source": [
    "### Reading a file one line at a time - Method 2"
   ]
  },
  {
   "cell_type": "code",
   "execution_count": null,
   "metadata": {},
   "outputs": [],
   "source": [
    "file=open(\"top-quotes.txt\",\"r\")\n",
    "while True:\n",
    "    line=file.readline()\n",
    "    if line=='':\n",
    "        break\n",
    "    print (line, end=\"\")\n",
    "\n",
    "#Closing file\n",
    "file.close()"
   ]
  },
  {
   "cell_type": "markdown",
   "metadata": {},
   "source": [
    "### Reading a file one line at a time - Method 3 (using for loop)"
   ]
  },
  {
   "cell_type": "code",
   "execution_count": null,
   "metadata": {
    "scrolled": false
   },
   "outputs": [],
   "source": [
    "file=open(\"top-quotes.txt\",\"r\")\n",
    "for line in file:\n",
    "    print (line, end=\"\")\n",
    "file.close()"
   ]
  },
  {
   "cell_type": "markdown",
   "metadata": {},
   "source": [
    "### Reading a list of lines from a file - Method 4 - readlines() method"
   ]
  },
  {
   "cell_type": "code",
   "execution_count": null,
   "metadata": {},
   "outputs": [],
   "source": [
    "file=open(\"top-quotes.txt\",\"r\")\n",
    "lines=file.readlines()\n",
    "file.close()\n",
    "lines"
   ]
  },
  {
   "cell_type": "markdown",
   "metadata": {},
   "source": [
    "# 2. Writing to a file (mode parameter 'w')"
   ]
  },
  {
   "cell_type": "markdown",
   "metadata": {},
   "source": [
    "### Creating a new file"
   ]
  },
  {
   "cell_type": "code",
   "execution_count": null,
   "metadata": {},
   "outputs": [],
   "source": [
    "file=open('My First File.txt','w')\n",
    "file.close()"
   ]
  },
  {
   "cell_type": "markdown",
   "metadata": {},
   "source": [
    "### Check if file exists and create new file only if file does not exit"
   ]
  },
  {
   "cell_type": "code",
   "execution_count": null,
   "metadata": {},
   "outputs": [],
   "source": [
    "try:\n",
    "    #trying to open file in read mode. If file does not exist, FileNotFoundError exception will be thrown\n",
    "    file=open('top-quotes1.txt','r')\n",
    "\n",
    "except FileNotFoundError:\n",
    "    #create new file as file does not exist\n",
    "    file=open('top-quotes1.txt','w')\n",
    "    \n",
    "    #write one line to new file'''\n",
    "    quote=\"'Don’t limit a child to your own learning, for he was born in another time.' — Rabindranath Tagore\"\n",
    "    file.write(quote)\n",
    "    \n",
    "    #close file\n",
    "    file.close()\n",
    "    \n",
    "    #open file again read mode\n",
    "    file=open('top-quotes1.txt','r')\n",
    "\n",
    "#read the file\n",
    "lines=file.readlines()\n",
    "\n",
    "#close file\n",
    "file.close()\n",
    "\n",
    "#display the lines read\n",
    "lines"
   ]
  },
  {
   "cell_type": "markdown",
   "metadata": {},
   "source": [
    "### Writing to a file - one line"
   ]
  },
  {
   "cell_type": "code",
   "execution_count": null,
   "metadata": {},
   "outputs": [],
   "source": [
    "file=open('top-quotes1.txt','w')\n",
    "quote=\"'In matters of style, swim with the current; in matters of principle, stand like a rock.' —Thomas Jefferson\"\n",
    "file.write(quote)\n",
    "file.close()"
   ]
  },
  {
   "cell_type": "markdown",
   "metadata": {},
   "source": [
    "### Writing to a file - multiple lines (note use of triple quotes for multi-line)"
   ]
  },
  {
   "cell_type": "code",
   "execution_count": null,
   "metadata": {},
   "outputs": [],
   "source": [
    "file=open('top-quotes1.txt','w')\n",
    "\n",
    "quote=''''In matters of style, swim with the current; in matters of principle, stand like a rock. — Thomas Jefferson\n",
    "'Don’t limit a child to your own learning, for he was born in another time.' — Rabindranath Tagore\n",
    "'He who has never learned to obey cannot be a good commander.' — Aristotle\n",
    "'A leader is best when people barely know he exists, when his work is done, his aim fulfilled, they will say: we did it ourselves.' — Lao Tzu\n",
    "'My life is my message.' — Mahatma Gandhi\n",
    "'A computer would deserve to be called intelligent if it could deceive a human into believing that it was human.' – Alan Turing'''\n",
    "\n",
    "file.write(quote)\n",
    "file.close()"
   ]
  },
  {
   "cell_type": "markdown",
   "metadata": {},
   "source": [
    "# 3. Appending text to a file (mode parameter 'a')"
   ]
  },
  {
   "cell_type": "code",
   "execution_count": null,
   "metadata": {},
   "outputs": [],
   "source": [
    "file=open('top-quotes1.txt','a')\n",
    "quote=''''Programmers do programming not because they expect to get paid or get adulation by the public, but because it is fun to program' - Linus Torvalds\n",
    "'Not the cry, but the flight of a wild duck, leads the flock to fly and follow.' — Chinese Proverb'\n",
    "'Whatever you are, be a good one.'' — Abraham Lincoln'''\n",
    "file.write(quote)\n",
    "file.close()"
   ]
  },
  {
   "cell_type": "markdown",
   "metadata": {},
   "source": [
    "### Appending text to a file using writelines()"
   ]
  },
  {
   "cell_type": "code",
   "execution_count": null,
   "metadata": {},
   "outputs": [],
   "source": [
    "file=open('top-quotes1.txt','a')\n",
    "\n",
    "#list object used to populate strings\n",
    "quotes=['My responsibility is getting all my players playing for the name on the front of the jersey, not the one on the back. –Unknown\\n',\n",
    "'Earn your leadership every day. – Michael Jordan\\n',\n",
    "'It is absurd that a man should rule others, who cannot rule himself. — Latin Proverb\\n',\n",
    "'It is better to lead from behind and to put others in front, especially when you celebrate victory when nice things occur. You take the front line when there is danger. Then people will appreciate your leadership. — Nelson Mandela\\n']\n",
    "\n",
    "file.writelines(quotes)\n",
    "file.close()"
   ]
  },
  {
   "cell_type": "markdown",
   "metadata": {},
   "source": [
    "# 4. Reading and writing binary files (mode parameter 'wb')"
   ]
  },
  {
   "cell_type": "markdown",
   "metadata": {},
   "source": [
    "### Writing sting to a binary file - note that the write() method does not accept a string; it requires byte object"
   ]
  },
  {
   "cell_type": "code",
   "execution_count": null,
   "metadata": {},
   "outputs": [],
   "source": [
    "file=open('First_Binary_File.dat','wb')\n",
    "data='BEMM459 - This is my first file with binary data'\n",
    "\n",
    "#Use encode() method to convert string to bytes using encoding schemes like utf-8 or utf-16\n",
    "encoded=data.encode(encoding='utf-16')\n",
    "print (encoded)\n",
    "\n",
    "\n",
    "#To write to file, please remove comments (#) from the subsequent two lines of code.\n",
    "file.write(encoded)\n",
    "file.close()\n"
   ]
  },
  {
   "cell_type": "markdown",
   "metadata": {},
   "source": [
    "### Reading string from a binary file"
   ]
  },
  {
   "cell_type": "code",
   "execution_count": null,
   "metadata": {},
   "outputs": [],
   "source": [
    "file=open('First_Binary_File.dat','rb')\n",
    "encoded=file.read()\n",
    "data=encoded.decode(encoding='utf-16')\n",
    "print (data)"
   ]
  },
  {
   "cell_type": "markdown",
   "metadata": {},
   "source": [
    "### Writing numeric data to a binary file"
   ]
  },
  {
   "cell_type": "code",
   "execution_count": null,
   "metadata": {},
   "outputs": [],
   "source": [
    "file=open('First_Binary_File.dat','wb')\n",
    "num=459\n",
    "num_bytes=num.to_bytes(16, 'big')\n",
    "\n",
    "print(num_bytes)\n",
    "\n",
    "file.write(num_bytes)\n",
    "file.close()"
   ]
  },
  {
   "cell_type": "markdown",
   "metadata": {},
   "source": [
    "### Reading numeric data from  a binary file"
   ]
  },
  {
   "cell_type": "code",
   "execution_count": null,
   "metadata": {},
   "outputs": [],
   "source": [
    "file=open('First_Binary_File.dat','rb')\n",
    "data=file.read()\n",
    "num_bytes=int.from_bytes(data,'big')\n",
    "print(num)"
   ]
  },
  {
   "cell_type": "markdown",
   "metadata": {},
   "source": [
    "### Writing float data to a binary file - import struct and use pack() function"
   ]
  },
  {
   "cell_type": "code",
   "execution_count": null,
   "metadata": {},
   "outputs": [],
   "source": [
    "import struct\n",
    "\n",
    "file=open('First_Binary_File.dat','wb')\n",
    "\n",
    "num=4567.12\n",
    "num_float_bytes=struct.pack('f',num)\n",
    "print(num_float_bytes)\n",
    "\n",
    "file.write(num_float_bytes)\n",
    "file.close()"
   ]
  },
  {
   "cell_type": "markdown",
   "metadata": {},
   "source": [
    "### Reading float data from a binary file - import struct and use unpack() function"
   ]
  },
  {
   "cell_type": "code",
   "execution_count": null,
   "metadata": {},
   "outputs": [],
   "source": [
    "file=open('First_Binary_File.dat','rb')\n",
    "data=file.read()\n",
    "num=struct.unpack('f', data)\n",
    "file.close()\n",
    "print (num)"
   ]
  },
  {
   "cell_type": "markdown",
   "metadata": {},
   "source": [
    "# 5. Simultaneous file read and write (mode parameter w+)"
   ]
  },
  {
   "cell_type": "code",
   "execution_count": null,
   "metadata": {},
   "outputs": [],
   "source": [
    "file=open(\"Write_and_Read.txt\",\"w+\")\n",
    "file.write(\"This is an example of simultaneous read and write\")\n",
    "\n",
    "#seek 10th byte from beginning\n",
    "file.seek(11,0) \n",
    "#read next 7 bytes\n",
    "txt=file.read(7) \n",
    "#display\n",
    "print(txt)\n",
    "\n",
    "file.close()"
   ]
  },
  {
   "cell_type": "code",
   "execution_count": null,
   "metadata": {},
   "outputs": [],
   "source": [
    "file=open(\"Write_and_Read.txt\",\"r+\")\n",
    "\n",
    "#before modification\n",
    "text=file.read()\n",
    "print (\"Before:\" + text)\n",
    "\n",
    "#seek 10th byte position from the begining\n",
    "file.seek(11,0) \n",
    "#overwrite next 7 bytes\n",
    "file.write('coding ') \n",
    "\n",
    "#set the write position to start of file\n",
    "file.seek(0)\n",
    "\n",
    "#read entire file\n",
    "#after modification\n",
    "text=file.read()\n",
    "print(\"After:\" + text)\n",
    "\n",
    "file.close()\n",
    "\n"
   ]
  },
  {
   "cell_type": "code",
   "execution_count": null,
   "metadata": {},
   "outputs": [],
   "source": []
  }
 ],
 "metadata": {
  "kernelspec": {
   "display_name": "Python 3",
   "language": "python",
   "name": "python3"
  },
  "language_info": {
   "codemirror_mode": {
    "name": "ipython",
    "version": 3
   },
   "file_extension": ".py",
   "mimetype": "text/x-python",
   "name": "python",
   "nbconvert_exporter": "python",
   "pygments_lexer": "ipython3",
   "version": "3.5.6"
  }
 },
 "nbformat": 4,
 "nbformat_minor": 2
}
