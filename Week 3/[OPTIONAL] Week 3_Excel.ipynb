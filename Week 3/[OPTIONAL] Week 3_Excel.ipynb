{
 "cells": [
  {
   "cell_type": "markdown",
   "metadata": {},
   "source": [
    "# Week 2 (Working with Excel) "
   ]
  },
  {
   "cell_type": "markdown",
   "metadata": {},
   "source": [
    "### 1. Creating an Excel Workbook and saving data"
   ]
  },
  {
   "cell_type": "code",
   "execution_count": null,
   "metadata": {},
   "outputs": [],
   "source": [
    "#openpyxl package (may ned to install using Anaconda or using pip utility)\n",
    "\n",
    "from openpyxl import Workbook\n",
    "\n",
    "wb = Workbook()\n",
    "\n",
    "#Workbook class represents an empty Excel workbook with one worksheet. To add data, set the workbook to active.\n",
    "ws = wb.active\n",
    "\n",
    "#This sets the name of the worksheet\n",
    "ws.title='ClassList'\n",
    "\n",
    "#write data to a cell - two methods. The cell method accepts parameters row, column and value.\n",
    "ws.cell(row=1, column=1, value='BEMM459 Class List') \n",
    "ws['B1'] = 'This is a test'\n",
    "\n",
    "#prepare data to wtite - list comprises of tuples\n",
    "studentlist=[('Student Num.', 'Student Initials', 'Last Name', 'Marks'),\n",
    "           (111,'A', 'Gonzalez',55),\n",
    "           (342, 'H', 'Smith',80),\n",
    "           (343,'X', 'Wang ',65),\n",
    "           (412,'AA', 'Devi',45),\n",
    "           (675,'D', 'Al-Balushi',70), \n",
    "           (615,'G', 'Tan',97)]\n",
    "\n",
    "#writing list - range(min_value, max_value) - range is used for iteration\n",
    "for row_local in range(1,8):\n",
    "        for col_local in range(1,5):\n",
    "                ws.cell(row=row_local, column=col_local, value=studentlist[row_local-1][col_local-1])\n",
    "\n",
    "#saving file\n",
    "wb.save(filename = \"BEMM459_Class_List.xlsx\")\n"
   ]
  },
  {
   "cell_type": "markdown",
   "metadata": {},
   "source": [
    "### 2. Reading from a Excel Workbook"
   ]
  },
  {
   "cell_type": "code",
   "execution_count": null,
   "metadata": {},
   "outputs": [],
   "source": [
    "from openpyxl import load_workbook\n",
    "\n",
    "wb = load_workbook(filename = \"BEMM459_Class_List.xlsx\")\n",
    "ws = wb['ClassList']\n",
    "\n",
    "#read data from a cell - two methods. The cell method accepts parameters row, column and value.\n",
    "temp = ws.cell(row=1, column=1).value \n",
    "print(temp)\n",
    "temp1 = ws['B1'].value\n",
    "print (temp1)\n",
    "\n",
    "#copy range to list\n",
    "classlist=[]\n",
    "for row_local in range(1,8):\n",
    "        student =[]\n",
    "        for col_local in range(1,5):\n",
    "                val=ws.cell(row=row_local, column=col_local).value\n",
    "                student.append(val)\n",
    "        classlist.append(tuple(student))\n",
    "print (classlist)\n",
    "\n",
    "#closing the workbook\n",
    "wb.close()"
   ]
  },
  {
   "cell_type": "markdown",
   "metadata": {},
   "source": [
    "### 3. Append data"
   ]
  },
  {
   "cell_type": "code",
   "execution_count": null,
   "metadata": {},
   "outputs": [],
   "source": [
    "from openpyxl import load_workbook\n",
    "\n",
    "wb = load_workbook(filename = \"BEMM459_Class_List.xlsx\")\n",
    "ws = wb['ClassList']\n",
    "\n",
    "#get the last row using sheet function max_row\n",
    "lastRow = ws.max_row\n",
    "\n",
    "#prepare data to wtite - list comprises of tuples\n",
    "studentlist=[(1,'A1', 'Gonzalez1',45),\n",
    "           (2, 'H1', 'Smith1',40),\n",
    "           (3,'X1', 'Wang1 ',75)]\n",
    "\n",
    "#appending new data to the end\n",
    "for row_local in range(1,4):\n",
    "        for col_local in range(1,5):\n",
    "                ws.cell(row=lastRow+row_local, column=col_local, value=studentlist[row_local-1][col_local-1])\n",
    "\n",
    "#saving file\n",
    "wb.save(filename = \"BEMM459_Class_List.xlsx\")\n"
   ]
  },
  {
   "cell_type": "markdown",
   "metadata": {},
   "source": [
    "### 4. TASK --> Reading from a Excel Workbook (all of the worksheet)"
   ]
  },
  {
   "cell_type": "markdown",
   "metadata": {},
   "source": [
    "### 5. Excel with Pandas Dataframe (write)"
   ]
  },
  {
   "cell_type": "code",
   "execution_count": null,
   "metadata": {},
   "outputs": [],
   "source": [
    "import pandas as pd\n",
    "\n",
    "#prepare list object\n",
    "studentlist=[('Student Num.', 'Student Initials', 'Last Name', 'Marks'),\n",
    "           (111,'A', 'Gonzalez',55),\n",
    "           (342, 'H', 'Smith',80),\n",
    "           (343,'X', 'Wang ',65),\n",
    "           (412,'AA', 'Devi',45),\n",
    "           (675,'D', 'Al-Balushi',70), \n",
    "           (615,'G', 'Tan',97)]\n",
    "\n",
    "#use studentlist as argument to constructor of DataFrame object\n",
    "df=pd.DataFrame(studentlist)\n",
    "\n",
    "#display content\n",
    "print(df)\n",
    "\n",
    "#save dataframe to Excel\n",
    "df.to_excel(\"Test_Dataframe.xlsx\", sheet_name=\"DF_Sheet\")\n"
   ]
  },
  {
   "cell_type": "markdown",
   "metadata": {},
   "source": [
    "### 6. Excel with Pandas Dataframe (read)"
   ]
  },
  {
   "cell_type": "code",
   "execution_count": null,
   "metadata": {},
   "outputs": [],
   "source": [
    "import pandas as pd\n",
    "\n",
    "df=pd.read_excel(\"Test_Dataframe.xlsx\", sheet_name=\"DF_Sheet\", engine='openpyxl')\n",
    "\n",
    "df"
   ]
  }
 ],
 "metadata": {
  "kernelspec": {
   "display_name": "Python 3",
   "language": "python",
   "name": "python3"
  },
  "language_info": {
   "codemirror_mode": {
    "name": "ipython",
    "version": 3
   },
   "file_extension": ".py",
   "mimetype": "text/x-python",
   "name": "python",
   "nbconvert_exporter": "python",
   "pygments_lexer": "ipython3",
   "version": "3.5.6"
  }
 },
 "nbformat": 4,
 "nbformat_minor": 4
}
