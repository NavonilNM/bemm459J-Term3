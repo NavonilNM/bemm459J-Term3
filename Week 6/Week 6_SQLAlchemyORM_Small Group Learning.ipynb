{
 "cells": [
  {
   "cell_type": "markdown",
   "metadata": {},
   "source": [
    "# <font color=\"green\"> BEMM459J - Week 6 - ORM with SQLAlchemy </font>\n",
    "SQLAlchemy is the Python SQL toolkit and <b>Object Relational Mapper (ORM)</b> that gives application developers the full power and flexibility of SQL. \n",
    "Ack of resources used for the tutorial: \n",
    "www.sqlalchemy.org/; www.tutorialspoint.com"
   ]
  },
  {
   "cell_type": "code",
   "execution_count": null,
   "metadata": {},
   "outputs": [],
   "source": [
    "# Import sqlalchemy\n",
    "import sqlalchemy\n",
    "\n",
    "# Check version\n",
    "sqlalchemy.__version__ "
   ]
  },
  {
   "cell_type": "markdown",
   "metadata": {},
   "source": [
    "# 1. Declare Mapping\n",
    "### The main objective of the Object Relational Mapper API of SQLAlchemy is to facilitate associating user-defined Python classes with database tables, and objects of those classes with rows in their corresponding tables. \n",
    "### Changes in states of objects and rows are synchronously matched with each other. SQLAlchemy enables expressing database queries in terms of user defined classes and their defined relationships."
   ]
  },
  {
   "cell_type": "code",
   "execution_count": null,
   "metadata": {},
   "outputs": [],
   "source": [
    "# Imports the declarative_base object, which connects the database engine to the SQLAlchemy functionality of the models.\n",
    "# The declarative base class stores a catlog of classes and mapped tables in the Declarative system.\n",
    "from sqlalchemy.ext.declarative import declarative_base\n",
    "\n",
    "# Imports the Column, Integer, String classes from SQLAlchemy, which are used to help define the model attributes.\n",
    "from sqlalchemy import Column, Integer, String\n",
    "\n",
    "# Imports create_engine\n",
    "from sqlalchemy import create_engine\n",
    "\n",
    "# create_engine() function is called to set up an engine object which is subsequently used to perform SQL operations. \n",
    "# Create an engine that stores data in the local directory. \"///\" is the relative path (The SQLite database is created in the same folder as the Jupyter script)\n",
    "# The first parameter is the name of the database.\n",
    "# The second parameter (echo) is set to true; this will generate the activity log\n",
    "engine = create_engine('sqlite:///Week6.db', echo = True)\n",
    "\n",
    "# Creates the Base class, which is what all models inherit from and how they get SQLAlchemy ORM functionality.\n",
    "# Once base class is declared, any number of mapped classes can be defined in terms of it (a reference is passed to the class).\n",
    "Base=declarative_base()\n",
    "\n",
    "# Defines the Student class model to the customers database table.\n",
    "# In ORM, the configurational process starts by describing the database tables and then by defining classes which will be mapped to those tables. \n",
    "# In SQLAlchemy, these two tasks are performed together. \n",
    "# A class in Declarative must have a __tablename__ attribute, and at least one Column which is part of a primary key. \n",
    "class Student(Base):\n",
    "    __tablename__ = 'students'\n",
    "    stud_id = Column(Integer, primary_key=True)\n",
    "    stud_name = Column(String)\n",
    "    stud_address = Column(String)\n",
    "    stud_email = Column(String)\n",
    "\n",
    "# Each Table object is a member of larger collection known as MetaData and this object is available using the .metadata attribute of declarative base class. \n",
    "# The MetaData.create_all() method is, passing in our Engine as a source of database connectivity. For all tables that haven’t been created yet, it issues CREATE TABLE statements to the database.\n",
    "# Create all tables in the engine. This is equivalent to \"Create Table\"\n",
    "Base.metadata.create_all(engine)"
   ]
  },
  {
   "cell_type": "markdown",
   "metadata": {},
   "source": [
    "# 2. Creating Session and adding records to the SQLite database"
   ]
  },
  {
   "cell_type": "code",
   "execution_count": null,
   "metadata": {},
   "outputs": [],
   "source": [
    "# The Session object enables us to interest with the database (it is a handle to the database)\n",
    "from sqlalchemy.orm import sessionmaker\n",
    "\n",
    "# Session class is defined using sessionmaker(), which is bound to the engine object created earlier\n",
    "Session = sessionmaker(bind = engine)\n",
    "\n",
    "# session object (objSession) is set-up using the default constructor\n",
    "objSession = Session()\n",
    "\n",
    "# We have declared a Student class and which has been mapped to the 'students' table\n",
    "# We create an object of the Student class and then add it to the table 'students' by using the add() method of the session object\n",
    "student1 = Student(stud_name = 'Hello World', stud_address = 'Flat 1, East Lane, Exeter EX3 5TY', stud_email = 'hello.world@exeter.ac.uk')\n",
    "\n",
    "# use add() method of the Session class used to add one record\n",
    "objSession.add(student1)\n",
    "\n",
    "# Flushes all items and any transaction in progress\n",
    "# The student object is added to the table 'students'\n",
    "objSession.commit()"
   ]
  },
  {
   "cell_type": "code",
   "execution_count": null,
   "metadata": {},
   "outputs": [],
   "source": [
    "# use add_all() method of the Session class used to add multiple record\n",
    "# open database in SQLIte and check if records are added (use \".mode column\" and \".header on\" options for formatting)\n",
    "objSession.add_all([\n",
    "   Student(stud_name = 'Hello SQLite', stud_address = 'Flat 12, East Park, Exeter EX3 6YU', stud_email = 'Hello.SQLite@exeter.ac.uk'), \n",
    "   Student(stud_name = 'Hello Redis', stud_address = '56 Pennsylvania Road, Exeter EX4 7YU', stud_email = 'Hello.Redis@exeter.ac.uk'), \n",
    "   Student(stud_name = 'Hello Mongo', stud_address = '111, St. Thomas Park, Exeter EX2 9HT', stud_email = 'Hello.Mongo@exeter.ac.uk')]\n",
    ")\n",
    "objSession.commit()"
   ]
  },
  {
   "cell_type": "markdown",
   "metadata": {},
   "source": [
    "# 3. Query records using SQLAlchemy ORM object"
   ]
  },
  {
   "cell_type": "code",
   "execution_count": null,
   "metadata": {},
   "outputs": [],
   "source": [
    "# SELECT statements generated by SQLAlchemy ORM are constructed by Query object\n",
    "# Query objects are initially generated using the query() method of the Session. e.g., q = session.query(mapped class) or q = Query(mappedClass, session)\n",
    "\n",
    "# query object has all() method which returns a resultset in the form of list of objects\n",
    "resultSet = objSession.query(Student).all()\n",
    "\n",
    "# Displaying all records\n",
    "for record in resultSet:\n",
    "    print(\"ID:\",record.stud_id, \"Name:\",record.stud_name, \"Address:\",record.stud_address, \"Email:\",record.stud_email)"
   ]
  },
  {
   "cell_type": "markdown",
   "metadata": {},
   "source": [
    "# 4. Update records using SQLAlchemy ORM object\n",
    "### example of committ and rollback"
   ]
  },
  {
   "cell_type": "code",
   "execution_count": null,
   "metadata": {},
   "outputs": [],
   "source": [
    "# To update a record in the database, we first assign new value to the object attribute and then commit the changes\n",
    "\n",
    "# The get(x) method of the Query object returns an object which holds the record associated with the primary key (x)\n",
    "record = objSession.query(Student).get(4)\n",
    "# Displaying type of object returned\n",
    "print(type(record))\n",
    "\n",
    "# Display content of the object\n",
    "print (\"Before update...\")\n",
    "print (\"ID:\", record.stud_id, \"Name:\", record.stud_name, \"Address:\", record.stud_address, \"Email:\", record.stud_email)\n",
    "\n",
    "# Updating name field by assigning a new value to the name attribute of the object\n",
    "record.stud_name = 'Hello Neo4J'\n",
    "objSession.commit()\n",
    "\n",
    "record = objSession.query(Student).get(4)\n",
    "# Display content of the object\n",
    "print (\"After update...\")\n",
    "print (\"ID:\", record.stud_id, \"Name:\", record.stud_name, \"Address:\", record.stud_address, \"Email:\", record.stud_email)"
   ]
  },
  {
   "cell_type": "code",
   "execution_count": null,
   "metadata": {},
   "outputs": [],
   "source": [
    "record = objSession.query(Student).get(1)\n",
    "record.stud_name = 'RELATIONAL DATABASE'\n",
    "# Display content of the object\n",
    "print (\"After update but before rollback...\")\n",
    "print (\"ID:\", record.stud_id, \"Name:\", record.stud_name, \"Address:\", record.stud_address, \"Email:\", record.stud_email)\n",
    "\n",
    "# Note that we are not using committ but rollback\n",
    "\n",
    "objSession.rollback()\n",
    "print (\"After rollback...\")\n",
    "print (\"ID:\", record.stud_id, \"Name:\", record.stud_name, \"Address:\", record.stud_address, \"Email:\", record.stud_email)"
   ]
  },
  {
   "cell_type": "code",
   "execution_count": null,
   "metadata": {},
   "outputs": [],
   "source": [
    "# using update() method of the Query object to make changes to several records (all records in our case)\n",
    "# synchronize_session attribute mentions the strategy to update attributes in the session\n",
    "objSession.query(Student).update({Student.stud_name:\"Mr.\"+Student.stud_name}, synchronize_session = False)\n",
    "objSession.commit()"
   ]
  },
  {
   "cell_type": "markdown",
   "metadata": {},
   "source": [
    "# 5. Applying Filters (similar to the WHERE clause in SQL)"
   ]
  },
  {
   "cell_type": "code",
   "execution_count": null,
   "metadata": {},
   "outputs": [],
   "source": [
    "# Resultset represented by Query object can be subjected to certain criteria by using filter() method. \n",
    "# The general usage of filter method is as follows − session.query(class).filter(criteria)\n",
    "\n",
    "#applying filters - greater than, equal to, not equal to, IN, Like with wildcard character, \n",
    "resultSet = objSession.query(Student).filter(Student.stud_id>2)\n",
    "\n",
    "# resultSet = objSession.query(Student).filter(Student.stud_id==2)\n",
    "\n",
    "# resultSet = objSession.query(Student).filter(Student.stud_id!=2)\n",
    "\n",
    "# resultSet = objSession.query(Student).filter(Student.stud_id.in_([1,3]))\n",
    "\n",
    "# resultSet = objSession.query(Student).filter(Student.stud_address.like('Flat%'))\n",
    "\n",
    "# Displaying all records\n",
    "for record in resultSet:\n",
    "    print(\"ID:\",record.stud_id, \"Name:\",record.stud_name, \"Address:\",record.stud_address, \"Email:\",record.stud_email)"
   ]
  },
  {
   "cell_type": "code",
   "execution_count": null,
   "metadata": {},
   "outputs": [],
   "source": [
    "#applying filter - AND\n",
    "# Method 1 - putting multiple commas separated criteria in the filter\n",
    "resultSet = objSession.query(Student).filter(Student.stud_id<3, Student.stud_address.like('Flat%'))\n",
    "\n",
    "for record in resultSet:\n",
    "    print(\"ID:\",record.stud_id, \"Name:\",record.stud_name, \"Address:\",record.stud_address, \"Email:\",record.stud_email)"
   ]
  },
  {
   "cell_type": "code",
   "execution_count": null,
   "metadata": {},
   "outputs": [],
   "source": [
    "#applying filter - AND\n",
    "# Method 2 - using the _() method (import and_)\n",
    "\n",
    "from sqlalchemy import and_\n",
    "resultSet = objSession.query(Student).filter(and_(Student.stud_id<3, Student.stud_address.like('Flat%')))\n",
    "\n",
    "for record in resultSet:\n",
    "    print(\"ID:\",record.stud_id, \"Name:\",record.stud_name, \"Address:\",record.stud_address, \"Email:\",record.stud_email)"
   ]
  },
  {
   "cell_type": "code",
   "execution_count": null,
   "metadata": {},
   "outputs": [],
   "source": [
    "#applying filter - OR\n",
    "\n",
    "from sqlalchemy import or_\n",
    "resultSet = objSession.query(Student).filter(or_(Student.stud_id<3, Student.stud_address.like('%Thomas%')))\n",
    "\n",
    "for record in resultSet:\n",
    "    print(\"ID:\",record.stud_id, \"Name:\",record.stud_name, \"Address:\",record.stud_address, \"Email:\",record.stud_email)"
   ]
  },
  {
   "cell_type": "code",
   "execution_count": null,
   "metadata": {},
   "outputs": [],
   "source": [
    "# all() - It returns a list. \n",
    "resultSet = objSession.query(Student).all()\n",
    "\n",
    "for record in resultSet:\n",
    "    print(\"ID:\",record.stud_id, \"Name:\",record.stud_name, \"Address:\",record.stud_address, \"Email:\",record.stud_email)"
   ]
  },
  {
   "cell_type": "code",
   "execution_count": null,
   "metadata": {},
   "outputs": [],
   "source": [
    "# first() - It applies a limit of one and returns the first result \n",
    "result=objSession.query(Student).first()\n",
    "\n",
    "print(\"ID:\",record.stud_id, \"Name:\",record.stud_name, \"Address:\",record.stud_address, \"Email:\",record.stud_email)"
   ]
  },
  {
   "cell_type": "code",
   "execution_count": null,
   "metadata": {},
   "outputs": [],
   "source": [
    "# Textual SQL\n",
    "# Literal strings can be used flexibly with Query object by specifying their use with the text()\n",
    "\n",
    "from sqlalchemy import text\n",
    "\n",
    "for student in objSession.query(Student).filter(text(\"stud_id<=2\")):\n",
    "   print(student.stud_name)"
   ]
  },
  {
   "cell_type": "code",
   "execution_count": null,
   "metadata": {},
   "outputs": [],
   "source": [
    "# This code block shows the use of one() method, error handling, requesting input from user and binding parameters with string-based SQL\n",
    "\n",
    "# Required for errorhanding\n",
    "from sqlalchemy.orm.exc import NoResultFound, MultipleResultsFound\n",
    "\n",
    "# Requesting user input\n",
    "studentNum=input(\"Enter student number: \")\n",
    "#studentAdd=input(\"Enter part of address: \")\n",
    "\n",
    "try:\n",
    "    # The one() method of the Query object fetches all rows, and if there is not exactly one it raises an error MultipleResultsFound or NoResultFound\n",
    "    # To specify bind parameters with string-based SQL, we use a colon; to specify the values, we use the params() method\n",
    "    student = objSession.query(Student).filter(text(\"stud_id = :value\")).params(value = studentNum).one()\n",
    "    \n",
    "    #student = objSession.query(Student).filter(text(\"stud_address LIKE :value\")).params(value = studentAdd).one()\n",
    "\n",
    "    print(student.stud_name)\n",
    "    \n",
    "except NoResultFound:\n",
    "    print(\"Results not found\")   \n",
    "    \n",
    "except MultipleResultsFound:\n",
    "    print(\"Multiple results found\")   \n"
   ]
  },
  {
   "cell_type": "code",
   "execution_count": null,
   "metadata": {},
   "outputs": [],
   "source": [
    "#To use an string-based statement for SQL, a text() construct representing a complete statement can be passed to from_statement().\n",
    "\n",
    "resultSet = objSession.query(Student).from_statement(text(\"SELECT * FROM students\")).all()\n",
    "\n",
    "#resultSet = objSession.query(Student).from_statement(text(\"SELECT * FROM students where stud_address LIKE '%Flat%'\")).all()\n",
    "\n",
    "for record in resultSet:\n",
    "    print(\"ID:\",record.stud_id, \"Name:\",record.stud_name, \"Address:\",record.stud_address, \"Email:\",record.stud_email)"
   ]
  },
  {
   "cell_type": "markdown",
   "metadata": {},
   "source": [
    "# 6. Building Relationships (one-to-many)"
   ]
  },
  {
   "cell_type": "code",
   "execution_count": null,
   "metadata": {},
   "outputs": [],
   "source": [
    "# Imports the declarative_base object, which connects the database engine to the SQLAlchemy functionality of the models.\n",
    "from sqlalchemy.ext.declarative import declarative_base\n",
    "\n",
    "# Imports the Column, Integer, String, ForeignKey, and Table classes from SQLAlchemy, which are used to help define the model attributes.\n",
    "from sqlalchemy import Column, Integer, String, ForeignKey, Table\n",
    "\n",
    "# Imports the relationship() object, which are used to create the relationships between objects.\n",
    "from sqlalchemy.orm import relationship\n",
    "\n",
    "# Imports create_engine\n",
    "from sqlalchemy import create_engine\n",
    "\n",
    "# Creates the Base class, which is what all models inherit from and how they get SQLAlchemy ORM functionality.\n",
    "Base1=declarative_base()\n",
    "\n",
    "# One-to-many relationship between customers and invoices table (and by extension, Customer and Invoice class)\n",
    "\n",
    "# Defines the Customer class -> mapped to the customers database table.\n",
    "class Customer(Base1):\n",
    "    __tablename__ = 'customers'\n",
    "    id = Column(Integer, primary_key = True)\n",
    "    name = Column(String)\n",
    "    address = Column(String)\n",
    "    email = Column(String)\n",
    "\n",
    "# Defines the Invoice class -> mapped to the invoices database table.\n",
    "# Invoices class applies ForeignKey construct on custid attribute. \n",
    "# relationship(), tells the ORM that the Invoice class should be linked to the Customer class using the attribute Invoice.customer.\n",
    "# The relationship() uses the foreign key relationships between the two tables to determine the nature of this linkage\n",
    "class Invoice(Base1):\n",
    "    __tablename__ = 'invoices'\n",
    "    id = Column(Integer, primary_key = True)\n",
    "    custid = Column(Integer, ForeignKey('customers.id'))\n",
    "    invno = Column(Integer)\n",
    "    amount = Column(Integer)\n",
    "    customerR = relationship(\"Customer\", back_populates = \"invoicesR\")\n",
    "\n",
    "#An additional relationship() directive is placed on the Customer mapped class under the attribute Customer.invoices. \n",
    "# The parameter relationship.back_populates is assigned to refer to the complementary attribute names, ..\n",
    "# so that each relationship() can make intelligent decision about the same relationship as expressed in reverse. \n",
    "# On one side, Invoices.customerR refers to Invoices instance, and on the other side, Customer.invoicesR refers to a list of Customers instances.\n",
    "Customer.invoicesR = relationship(\"Invoice\", order_by = Invoice.id, back_populates = \"customerR\")\n",
    "\n",
    "engine1 = create_engine('sqlite:///Week6.db', echo=True)\n",
    "\n",
    "Base1.metadata.create_all(engine1)"
   ]
  },
  {
   "cell_type": "markdown",
   "metadata": {},
   "source": [
    "# 7. Adding data into two related tables with ORM objects"
   ]
  },
  {
   "cell_type": "code",
   "execution_count": null,
   "metadata": {},
   "outputs": [],
   "source": [
    "from sqlalchemy.orm import sessionmaker\n",
    "Session = sessionmaker(bind = engine1)\n",
    "sessionObj = Session()\n",
    "\n",
    "# Createing an object of Customer class and assigning values\n",
    "c1 = Customer(name = \"Hello World\", address = \"South Bank, London NE1\", email = \"hello.world@exeter.com\")\n",
    "\n",
    "# Check which class the object belongs to (useful command)\n",
    "print(type(c1))\n",
    "\n",
    "# Assigning values to c1.invoicesR \n",
    "c1.invoicesR = [Invoice(invno = 10, amount = 15000), Invoice(invno = 14, amount = 3850)]\n",
    "\n",
    "sessionObj.add(c1)\n",
    "sessionObj.commit()"
   ]
  },
  {
   "cell_type": "code",
   "execution_count": null,
   "metadata": {},
   "outputs": [],
   "source": [
    "# Customer object initialised by providing mapped attribute of invoices in the constructor itself\n",
    "c2 = Customer(\n",
    "      name = \"Hello Neo4J\", \n",
    "      address = \"Lopez Halls, Exeter University\",\n",
    "      email = \"Neo4J@gmail.com\",\n",
    "      invoicesR = [Invoice(invno = 3, amount = 10000), \n",
    "      Invoice(invno = 4, amount = 5000)\n",
    "    ])\n",
    "\n",
    "sessionObj.add(c2)\n",
    "sessionObj.commit()"
   ]
  },
  {
   "cell_type": "code",
   "execution_count": null,
   "metadata": {},
   "outputs": [],
   "source": [
    "# Adding a list of objects using add_all() function of session object\n",
    "\n",
    "rows = [\n",
    "   Customer(\n",
    "      name = \"Hello Redis\", \n",
    "      address = \"Plymouth Quaeters, Plymouth\", \n",
    "      email = \"Redis@gmail.com\", \n",
    "      invoicesR = [Invoice(invno = 7, amount = 12000), Invoice(invno = 8, amount = 18500)]),\n",
    "\n",
    "   Customer(\n",
    "      name = \"Hello Cassandra\", \n",
    "      address = \"L.12, Bristol University Computer Lab, Bristol BS1 6YU\", \n",
    "      email = \"Cassandra@gmail.com\",\n",
    "      invoicesR = [Invoice(invno = 9, amount = 15000), \n",
    "      Invoice(invno = 11, amount = 6000)\n",
    "   ])\n",
    "]\n",
    "\n",
    "sessionObj.add_all(rows)\n",
    "sessionObj.commit()"
   ]
  },
  {
   "cell_type": "markdown",
   "metadata": {},
   "source": [
    "# 8. Working with Joins"
   ]
  },
  {
   "cell_type": "code",
   "execution_count": null,
   "metadata": {},
   "outputs": [],
   "source": [
    "# To construct a simple implicit join between Customer and Invoice, we can use Query.filter() to equate their related columns together\n",
    "\n",
    "print(\"\\nMethod 1..\\n\")\n",
    "result = sessionObj.query(Customer).join(Invoice).filter(Customer.id == Invoice.custid)\n",
    "for row in result:\n",
    "    for inv in row.invoicesR:\n",
    "        print (row.id, row.name, inv.invno, inv.amount)\n",
    "        \n",
    "\n",
    "print(\"\\nMethod 2..\\n\")\n",
    "for c, i in sessionObj.query(Customer, Invoice).filter(Customer.id == Invoice.custid).all():\n",
    "    print (\"ID: {} Name: {} Invoice No: {} Amount: {}\".format(c.id, c.name, i.invno, i.amount))"
   ]
  },
  {
   "cell_type": "markdown",
   "metadata": {},
   "source": [
    "# 9. Deleting Objects"
   ]
  },
  {
   "cell_type": "code",
   "execution_count": null,
   "metadata": {},
   "outputs": [],
   "source": [
    "# To delete record from a single table, you have to delete an object of the mapped class from a session and commit the action.\n",
    "recordSet = sessionObj.query(Customer).get(2)\n",
    "print (recordSet.id, recordSet.name)\n",
    "\n",
    "# Deleteing one record using .delete() method (pass object with primary key value = 2)\n",
    "sessionObj.delete(recordSet)\n",
    "\n",
    "sessionObj.commit()\n",
    "\n",
    "# Confirm to see if deleted (count will be zero)\n",
    "sessionObj.query(Customer).filter_by(id = 2).count()\n",
    "\n",
    "# However, related records present in Invoices\n",
    "sessionObj.query(Invoice).filter(Invoice.invno.in_([10,14])).count()"
   ]
  },
  {
   "cell_type": "code",
   "execution_count": null,
   "metadata": {},
   "outputs": [],
   "source": [
    "# DELETE RELATED RECORD FROM CHILD TABLE (CASCADE DELETE IN SQLite)\n",
    "\n",
    "# The cascade attribute in relationship function is a comma-separated list of cascade rules which determines how Session operations should be “cascaded” from parent to child. \n",
    "# By default: it is False, which means that it is \"save-update, merge\".\n",
    "# Change to: \"all, delete-orphan\" to indicate that related objects should follow along with the parent object in all cases, and be deleted when de-associated.\n",
    "\n",
    "from sqlalchemy.ext.declarative import declarative_base\n",
    "from sqlalchemy import Column, Integer, String, ForeignKey, Table\n",
    "from sqlalchemy.orm import relationship\n",
    "from sqlalchemy import create_engine\n",
    "\n",
    "# Creates the Base class, which is what all models inherit from and how they get SQLAlchemy ORM functionality.\n",
    "Base2=declarative_base()\n",
    "\n",
    "# Creates the Base class, which is what all models inherit from and how they get SQLAlchemy ORM functionality.\n",
    "\n",
    "class CustomerX(Base2):\n",
    "    __tablename__ = 'customersX'\n",
    "    id = Column(Integer, primary_key = True)\n",
    "    name = Column(String)\n",
    "    address = Column(String)\n",
    "    email = Column(String)\n",
    "    \n",
    "# Defines the Invoice class -> mapped to the invoices database table.\n",
    "# Invoices class applies ForeignKey construct on custid attribute. \n",
    "# relationship(), tells the ORM that the Invoice class should be linked to the Customer class using the attribute Invoice.customer.\n",
    "# The relationship() uses the foreign key relationships between the two tables to determine the nature of this linkage\n",
    "class InvoiceX(Base2):\n",
    "    __tablename__ = 'invoicesX'\n",
    "    id = Column(Integer, primary_key = True)\n",
    "    custid = Column(Integer, ForeignKey('customersX.id'))\n",
    "    invno = Column(Integer)\n",
    "    amount = Column(Integer)\n",
    "    customerR = relationship(\"CustomerX\", back_populates = \"invoicesR\")\n",
    "    \n",
    "CustomerX.invoicesR = relationship(\"InvoiceX\", order_by = InvoiceX.id, back_populates = \"customerR\", cascade = \"all, delete, delete-orphan\")\n",
    "\n",
    "engine2 = create_engine('sqlite:///Week6.db', echo=True)\n",
    "\n",
    "Base2.metadata.create_all(engine2)"
   ]
  },
  {
   "cell_type": "code",
   "execution_count": null,
   "metadata": {},
   "outputs": [],
   "source": [
    "# Add Data\n",
    "\n",
    "from sqlalchemy.orm import sessionmaker\n",
    "\n",
    "# Session class is defined using sessionmaker(), which is bound to the engine object created earlier\n",
    "Session2 = sessionmaker(bind = engine2)\n",
    "\n",
    "# session object (objSession) is set-up using the default constructor\n",
    "sessionObj2 = Session2()\n",
    "\n",
    "rows = [\n",
    "    CustomerX(\n",
    "      name = \"Hello Neo4J\", \n",
    "      address = \"Lopez Halls, Exeter University\",\n",
    "      email = \"Neo4J@gmail.com\",\n",
    "      invoicesR = [InvoiceX(invno = 3, amount = 10000), InvoiceX(invno = 4, amount = 5000)\n",
    "    ]),\n",
    "   CustomerX(\n",
    "      name = \"Hello Redis\", \n",
    "      address = \"Plymouth Quaeters, Plymouth\", \n",
    "      email = \"Redis@gmail.com\", \n",
    "      invoicesR = [InvoiceX(invno = 7, amount = 12000), InvoiceX(invno = 8, amount = 18500)\n",
    "    ]),\n",
    "   CustomerX(\n",
    "      name = \"Hello Cassandra\", \n",
    "      address = \"L.12, Bristol University Computer Lab, Bristol BS1 6YU\", \n",
    "      email = \"Cassandra@gmail.com\",\n",
    "      invoicesR = [InvoiceX(invno = 9, amount = 15000), InvoiceX(invno = 11, amount = 6000)\n",
    "   ])\n",
    "]\n",
    "\n",
    "sessionObj2.add_all(rows)\n",
    "sessionObj2.commit()"
   ]
  },
  {
   "cell_type": "code",
   "execution_count": null,
   "metadata": {},
   "outputs": [],
   "source": [
    "# To delete record from a single table, you have to delete an object of the mapped class from a session and commit the action.\n",
    "recordSet = sessionObj2.query(CustomerX).get(3)\n",
    "\n",
    "# Deleteing one record using .delete() method (pass object with primary key value = 2)\n",
    "sessionObj2.delete(recordSet)\n",
    "\n",
    "sessionObj2.commit()\n",
    "\n",
    "# Confirm to see if deleted (count will be zero)\n",
    "sessionObj2.query(CustomerX).filter_by(id = 2).count()\n",
    "\n",
    "# However, related records present in Invoices\n",
    "sessionObj2.query(InvoiceX).filter(InvoiceX.invno.in_([3,4])).count()"
   ]
  },
  {
   "cell_type": "markdown",
   "metadata": {},
   "source": [
    "# 10. Creating Many-to-Many Relationship"
   ]
  },
  {
   "cell_type": "code",
   "execution_count": null,
   "metadata": {},
   "outputs": [],
   "source": [
    "# Many to Many relationship between two tables is achieved by adding an association table such that it has two foreign keys - one from each table’s primary key. \n",
    "# Example used: Employee is a part of more than one department, and a department has more than one employee.\n",
    "\n",
    "from sqlalchemy.ext.declarative import declarative_base\n",
    "from sqlalchemy import Column, Integer, String, ForeignKey, Table\n",
    "from sqlalchemy.orm import relationship\n",
    "from sqlalchemy import create_engine\n",
    "\n",
    "# Creates the Base class, which is what all models inherit from and how they get SQLAlchemy ORM functionality.\n",
    "Base3=declarative_base()\n",
    "\n",
    "# Define Employee and Department classes mapped to tables departmentTable and employeeTable \n",
    "class Department(Base3):\n",
    "    __tablename__ = 'departmentTable'\n",
    "    id = Column(Integer, primary_key = True)\n",
    "    name = Column(String)\n",
    "    employees = relationship('Employee', secondary = 'link')\n",
    "\n",
    "class Employee(Base3):\n",
    "    __tablename__ = 'employeeTable'\n",
    "    id = Column(Integer, primary_key = True)\n",
    "    name = Column(String)\n",
    "    departments = relationship(Department,secondary = 'link')\n",
    "\n",
    "# Define a Link class. It is linked to link table and contains department_id and employee_id attributes respectively referencing to primary keys of department and employee table.\n",
    "class Link(Base3):\n",
    "    __tablename__ = 'link'\n",
    "    department_id = Column(Integer, ForeignKey('departmentTable.id'), primary_key = True)\n",
    "    employee_id = Column(Integer, ForeignKey('employeeTable.id'), primary_key = True)\n",
    "    \n",
    "\n",
    "engine3 = create_engine('sqlite:///Week6.db', echo=True)\n",
    "Base3.metadata.create_all(engine3)\n"
   ]
  },
  {
   "cell_type": "code",
   "execution_count": null,
   "metadata": {},
   "outputs": [],
   "source": [
    "# Add data\n",
    "\n",
    "# 1. Create objects of Department and Employee classes\n",
    "d1 = Department(name = \"Accounts\")\n",
    "d2 = Department(name = \"Sales\")\n",
    "d3 = Department(name = \"Marketing\")\n",
    "e1 = Employee(name = \"John\")\n",
    "e2 = Employee(name = \"Tony\")\n",
    "e3 = Employee(name = \"Graham\")\n",
    "\n",
    "# 2. Each table has a collection attribute having append() method. We can add Department objects to Department collection of Employee object, and vice-versa\n",
    "e1.departments.append(d1)\n",
    "e2.departments.append(d3)\n",
    "d1.employees.append(e3)\n",
    "d2.employees.append(e2)\n",
    "d3.employees.append(e1)\n",
    "e3.departments.append(d2)"
   ]
  },
  {
   "cell_type": "code",
   "execution_count": null,
   "metadata": {},
   "outputs": [],
   "source": [
    "from sqlalchemy.orm import sessionmaker\n",
    "Session = sessionmaker(bind = engine3)\n",
    "sessionObj4 = Session()\n",
    "\n",
    "# Add all objects to datbase and commit\n",
    "sessionObj4.add(e1)\n",
    "sessionObj4.add(e2)\n",
    "sessionObj4.add(d1)\n",
    "sessionObj4.add(d2)\n",
    "sessionObj4.add(d3)\n",
    "sessionObj4.add(e3)\n",
    "\n",
    "sessionObj4.commit()"
   ]
  },
  {
   "cell_type": "code",
   "execution_count": null,
   "metadata": {},
   "outputs": [],
   "source": [
    "# Display data from three tables - Many to Many.\n",
    "\n",
    "for x in sessionObj4.query(Department, Employee).filter(Link.department_id == Department.id, \n",
    "   Link.employee_id == Employee.id).order_by(Link.department_id).all():\n",
    "    print (\"Department: {} Name: {}\".format(x.Department.name, x.Employee.name))"
   ]
  },
  {
   "cell_type": "markdown",
   "metadata": {},
   "source": [
    "# 11: Dropping Tables"
   ]
  },
  {
   "cell_type": "code",
   "execution_count": null,
   "metadata": {},
   "outputs": [],
   "source": [
    "# All tables can be deleted using the drop_all() method. \n",
    "# This method does the exact opposite of create_all()\n",
    "# When drop_all() command is issued, the presence of each table is checked first, and tables are dropped in reverse order of dependency.\n",
    "\n",
    "Base3.metadata.drop_all(engine3)"
   ]
  }
 ],
 "metadata": {
  "kernelspec": {
   "display_name": "Python 3",
   "language": "python",
   "name": "python3"
  },
  "language_info": {
   "codemirror_mode": {
    "name": "ipython",
    "version": 3
   },
   "file_extension": ".py",
   "mimetype": "text/x-python",
   "name": "python",
   "nbconvert_exporter": "python",
   "pygments_lexer": "ipython3",
   "version": "3.7.3"
  }
 },
 "nbformat": 4,
 "nbformat_minor": 4
}
